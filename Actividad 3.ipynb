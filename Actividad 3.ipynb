{
  "nbformat": 4,
  "nbformat_minor": 0,
  "metadata": {
    "colab": {
      "provenance": [],
      "authorship_tag": "ABX9TyPe5M77COTNZZgupVyv3usQ",
      "include_colab_link": true
    },
    "kernelspec": {
      "name": "python3",
      "display_name": "Python 3"
    },
    "language_info": {
      "name": "python"
    }
  },
  "cells": [
    {
      "cell_type": "markdown",
      "metadata": {
        "id": "view-in-github",
        "colab_type": "text"
      },
      "source": [
        "<a href=\"https://colab.research.google.com/github/J-Arturo-Rivas/CDSeptiembre2025/blob/main/Actividad%203.ipynb\" target=\"_parent\"><img src=\"https://colab.research.google.com/assets/colab-badge.svg\" alt=\"Open In Colab\"/></a>"
      ]
    },
    {
      "cell_type": "markdown",
      "source": [
        "**Problema 1: Gestión de Inventario (Listas y Diccionarios)**\n",
        "\n",
        "**Eres el encargado de un pequeño almacén y necesitas un sistema para gestionar tu inventario.**\n"
      ],
      "metadata": {
        "id": "1e3Zh8RbDV0s"
      }
    },
    {
      "cell_type": "markdown",
      "source": [
        "\n",
        "Tareas\n",
        "\n",
        "Creación Inicial: Define un diccionario llamado inventario donde las claves son los nombres de los productos (cadenas) y los valores son el stock actual (números enteros).\n",
        "\n",
        "\n",
        "Inicializa el inventario con al menos tres productos por ejemplo:\n",
        " 'tornillos': 150,\n",
        " 'martillos': 25,\n",
        " 'clavos': 300.\n",
        "\n",
        "Agrega un nuevo producto:\n",
        "'sierras' con un stock de 15.\n",
        "\n",
        "Actualiza el stock de 'tornillos' restándole 50 unidades (por una venta).\n",
        "\n",
        "Muestra el stock actual de 'martillos'.\n"
      ],
      "metadata": {
        "id": "SgLtt40UDash"
      }
    },
    {
      "cell_type": "code",
      "execution_count": 1,
      "metadata": {
        "colab": {
          "base_uri": "https://localhost:8080/"
        },
        "id": "Nx8YgI7cDS8e",
        "outputId": "a9f3aef0-d91a-4110-be6c-55e0847001e2"
      },
      "outputs": [
        {
          "output_type": "stream",
          "name": "stdout",
          "text": [
            "25\n"
          ]
        }
      ],
      "source": [
        "inventario={'tornillos':150,'martillos':25,'clavos':300}\n",
        "inventario['sierras']=15\n",
        "inventario['tornillos']=inventario['tornillos']-50\n",
        "print(inventario['martillos'])\n"
      ]
    },
    {
      "cell_type": "markdown",
      "source": [
        "Operación con Lista: Extrae todas las claves (nombres de productos) del diccionario inventario y guárdalas en una lista llamada lista_productos.\n",
        "\n",
        "Verificación y Salida: Imprime el diccionario inventario final y la lista_productos."
      ],
      "metadata": {
        "id": "WKO3q8rPDsPx"
      }
    },
    {
      "cell_type": "code",
      "source": [
        "lista_productos=list(inventario.keys())\n",
        "print(inventario)\n",
        "print(lista_productos)\n"
      ],
      "metadata": {
        "colab": {
          "base_uri": "https://localhost:8080/"
        },
        "id": "hRiJdiKHESI6",
        "outputId": "d865a055-d78e-4c5a-b4ef-a7406b11987a"
      },
      "execution_count": 2,
      "outputs": [
        {
          "output_type": "stream",
          "name": "stdout",
          "text": [
            "{'tornillos': 100, 'martillos': 25, 'clavos': 300, 'sierras': 15}\n",
            "['tornillos', 'martillos', 'clavos', 'sierras']\n"
          ]
        }
      ]
    },
    {
      "cell_type": "markdown",
      "source": [
        "**Problema 2: Coordenadas Inmutables (Tuplas y Conversión)**\n",
        "\n",
        "**Debes almacenar un conjunto de puntos de interés (POI) en un mapa, donde cada punto se define por sus coordenadas (x,y).**\n"
      ],
      "metadata": {
        "id": "vV4UYdoKE4u_"
      }
    },
    {
      "cell_type": "markdown",
      "source": [
        "\n",
        "Tareas\n",
        "Creación de POIs: Crea una lista llamada poi_lista que contenga al menos tres tuplas, donde cada tupla represente una coordenada (x,y):\n",
        "\n",
        "Ejemplo: [(10, 5), (25, 8), (4, 12)].\n",
        "\n"
      ],
      "metadata": {
        "id": "YleP07yME_LC"
      }
    },
    {
      "cell_type": "code",
      "source": [
        "poi_lista=[(10,5),(25,8),(4,12),(5,125)]"
      ],
      "metadata": {
        "id": "hvydK5ilFBZK"
      },
      "execution_count": 4,
      "outputs": []
    },
    {
      "cell_type": "markdown",
      "source": [
        "Creación Etiquetada: Para un nuevo punto, crea una tupla llamada poi_etiquetado que almacene la etiqueta y sus coordenadas.\n",
        "\n",
        "Ejemplo: ('Estatua', 30, 9)."
      ],
      "metadata": {
        "id": "wpI06hntFBlE"
      }
    },
    {
      "cell_type": "code",
      "source": [
        "poi_etiquetado=(\"pilares cooperemos pueblo\",105,100)"
      ],
      "metadata": {
        "id": "1vUBrJovFQZ5"
      },
      "execution_count": 5,
      "outputs": []
    },
    {
      "cell_type": "markdown",
      "source": [
        "**Problema 3: Recibo de Compra (Anidación y Acceso)**\n",
        "**Estás diseñando la estructura de datos para un recibo de compra, que debe contener información estructurada y repetitiva.**\n"
      ],
      "metadata": {
        "id": "J63y3DYRFeBL"
      }
    },
    {
      "cell_type": "markdown",
      "source": [
        "Tareas\n",
        "Estructura del Recibo: Crea un diccionario llamado recibo con las siguientes claves:\n",
        "'numero_recibo' (entero).\n",
        "'fecha' (cadena).\n",
        "'items' (lista).\n",
        "\n",
        "El valor de 'items' debe ser una lista de diccionarios, donde cada diccionario representa un ítem con claves como 'nombre', 'cantidad', y 'precio_unitario'.\n",
        "Llenar con Datos: Agrega al menos dos ítems (diccionarios) a la lista 'items' del recibo.\n"
      ],
      "metadata": {
        "id": "qd6RvWEWFie6"
      }
    },
    {
      "cell_type": "code",
      "source": [
        "recibo={\n",
        "     \"numero_recibo\":1, \"fecha\":\"17/09/2025\",'items':[{\"nombre\":\"laptop\", \"cantidad\":1,  \"precio_unitario\":10000},{\"nombre\":\"teclado\", \"cantidad\":1,  \"precio_unitario\":150},{\"nombre\":\"mouse\", \"cantidad\":1,  \"precio_unitario\":250}]}"
      ],
      "metadata": {
        "id": "1b0uUnrKFn2q"
      },
      "execution_count": 9,
      "outputs": []
    },
    {
      "cell_type": "markdown",
      "source": [
        "\n",
        "Cálculo y Acceso:\n",
        "\n",
        "Accede e imprime el nombre del segundo ítem comprado.\n",
        "\n",
        "Calcula el subtotal de ese segundo ítem (cantidad * precio_unitario) y almacénalo en una variable.\n",
        "\n",
        "Modificación Anidada: Incrementa la 'cantidad' del primer ítem en 1."
      ],
      "metadata": {
        "id": "NmHZdcc5FoLy"
      }
    },
    {
      "cell_type": "code",
      "source": [
        "print(recibo)\n",
        "producto=recibo[\"items\"][1][\"nombre\"]\n",
        "print(producto)\n",
        "\n",
        "subtotal=recibo[\"items\"][1][\"cantidad\"]*recibo[\"items\"][1][\"precio_unitario\"]\n",
        "print(subtotal)\n",
        "\n",
        "recibo[\"items\"][0][\"cantidad\"]+=1\n",
        "\n",
        "print(recibo)"
      ],
      "metadata": {
        "colab": {
          "base_uri": "https://localhost:8080/"
        },
        "id": "3DtMQuHRGa9M",
        "outputId": "8e333665-2f2e-47f2-bc6a-35f51c1f662d"
      },
      "execution_count": 10,
      "outputs": [
        {
          "output_type": "stream",
          "name": "stdout",
          "text": [
            "{'numero_recibo': 1, 'fecha': '17/09/2025', 'items': [{'nombre': 'laptop', 'cantidad': 1, 'precio_unitario': 10000}, {'nombre': 'teclado', 'cantidad': 1, 'precio_unitario': 150}, {'nombre': 'mouse', 'cantidad': 1, 'precio_unitario': 250}]}\n",
            "teclado\n",
            "150\n",
            "{'numero_recibo': 1, 'fecha': '17/09/2025', 'items': [{'nombre': 'laptop', 'cantidad': 2, 'precio_unitario': 10000}, {'nombre': 'teclado', 'cantidad': 1, 'precio_unitario': 150}, {'nombre': 'mouse', 'cantidad': 1, 'precio_unitario': 250}]}\n"
          ]
        }
      ]
    }
  ]
}