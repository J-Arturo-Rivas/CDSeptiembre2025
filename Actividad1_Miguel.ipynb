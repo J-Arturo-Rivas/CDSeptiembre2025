{
  "nbformat": 4,
  "nbformat_minor": 0,
  "metadata": {
    "colab": {
      "provenance": [],
      "authorship_tag": "ABX9TyMCpLtGbVxCoRkic8DjxLCK",
      "include_colab_link": true
    },
    "kernelspec": {
      "name": "python3",
      "display_name": "Python 3"
    },
    "language_info": {
      "name": "python"
    }
  },
  "cells": [
    {
      "cell_type": "markdown",
      "metadata": {
        "id": "view-in-github",
        "colab_type": "text"
      },
      "source": [
        "<a href=\"https://colab.research.google.com/github/J-Arturo-Rivas/CDSeptiembre2025/blob/Miguel/Actividad1_Miguel.ipynb\" target=\"_parent\"><img src=\"https://colab.research.google.com/assets/colab-badge.svg\" alt=\"Open In Colab\"/></a>"
      ]
    },
    {
      "cell_type": "code",
      "execution_count": 2,
      "metadata": {
        "colab": {
          "base_uri": "https://localhost:8080/"
        },
        "id": "-7jGibYaPfLt",
        "outputId": "1a57ba3e-28a4-4b64-9b9a-8082c7ba27fe"
      },
      "outputs": [
        {
          "output_type": "stream",
          "name": "stdout",
          "text": [
            "Ingresa tu edad 31\n",
            "Ingresa tu nombre Miguel\n",
            "Hola, Miguel\n",
            "Bienvenido al curso de Ciencia de Datos\n",
            "Tu edad es 31\n"
          ]
        }
      ],
      "source": [
        "edad = int(input(\"Ingresa tu edad \"))\n",
        "nombre = input(\"Ingresa tu nombre \")\n",
        "print(\"Hola,\", nombre)\n",
        "print(\"Bienvenido al curso de Ciencia de Datos\")\n",
        "print(\"Tu edad es\", edad)"
      ]
    }
  ]
}