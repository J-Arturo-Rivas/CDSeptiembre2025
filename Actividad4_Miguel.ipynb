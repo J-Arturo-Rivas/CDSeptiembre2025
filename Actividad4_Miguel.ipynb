{
  "nbformat": 4,
  "nbformat_minor": 0,
  "metadata": {
    "colab": {
      "provenance": [],
      "mount_file_id": "1DUa7w4HC4JueRZbo2GcMxZCmWhtX3p_o",
      "authorship_tag": "ABX9TyPsJJU+uZvrd/Fzh0kP2EYX"
    },
    "kernelspec": {
      "name": "python3",
      "display_name": "Python 3"
    },
    "language_info": {
      "name": "python"
    }
  },
  "cells": [
    {
      "cell_type": "markdown",
      "source": [
        "# **Uso de libreria pandas, diccionarios y listas #4**"
      ],
      "metadata": {
        "id": "9DejCVhROEnd"
      }
    },
    {
      "cell_type": "markdown",
      "source": [
        "1. Análisis Descriptivo Básico (Pandas)\n",
        "Demuestra que puedes cargar e inspeccionar los datos:\n",
        "\n",
        "Exploración: Muestra las primeras 5 filas y la forma (.shape) del DataFrame ventas_df.\n",
        "\n",
        "Selección: Crea un nuevo DataFrame (productos_precios) que solo contenga las columnas Producto y Precio.\n",
        "\n",
        "Resumen: Calcula y muestra el precio promedio de todos los productos.\n"
      ],
      "metadata": {
        "id": "QceGQiBBOA_9"
      }
    },
    {
      "cell_type": "code",
      "execution_count": 29,
      "metadata": {
        "colab": {
          "base_uri": "https://localhost:8080/"
        },
        "id": "UGOgnUCCOAg9",
        "outputId": "ee2938c0-b84e-4612-d2eb-9a8cbb8eddd4"
      },
      "outputs": [
        {
          "output_type": "stream",
          "name": "stdout",
          "text": [
            "  Producto  Precio  Cantidad       Fecha\n",
            "0   Laptop    1200         1  2024-01-05\n",
            "1  Monitor     350         2  2024-01-05\n",
            "2  Teclado      80         3  2024-01-06\n",
            "3   Laptop    1150         1  2024-01-07\n",
            "4    Mouse      30         5  2024-01-07\n",
            "El DataFrame està conformado por:  (11, 4) Filas y Columnas, respectivamente.\n",
            "       Producto  Precio\n",
            "0        Laptop    1200\n",
            "1       Monitor     350\n",
            "2       Teclado      80\n",
            "3        Laptop    1150\n",
            "4         Mouse      30\n",
            "5        Webcam      50\n",
            "6       Monitor     360\n",
            "7     Impresora     250\n",
            "8        Laptop    1250\n",
            "9   Auriculares      45\n",
            "10      Teclado      90\n",
            "El promedio de los precios de los productos es:  441.3636363636364\n"
          ]
        }
      ],
      "source": [
        "import pandas as pd\n",
        "\n",
        "# Se accede al archivo csv mediante un manejo de errores\n",
        "try:\n",
        "    df = pd.read_csv('/ventas.csv')\n",
        "except FileNotFoundError:\n",
        "    print(\"El archivo no se encuentra en la ruta especificada.\")\n",
        "#Se imprimen las 5 primeras filas\n",
        "print(df.head())\n",
        "\n",
        "#Se usa el atributo shape para conocer las dimensiones del DataFrame\n",
        "print('El DataFrame està conformado por: ', df.shape,  'Filas y Columnas, respectivamente.')\n",
        "\n",
        "#Se crea un nuevo DataFrame con las series Producto y Precio, posteriormente se imprime\n",
        "productos_precios = df[['Producto', 'Precio']]\n",
        "print(productos_precios)\n",
        "\n",
        "#Se calcula el promedio de la Serie Precio con el método mean()\n",
        "precio_promedio = df['Precio'].mean()\n",
        "print('El promedio de los precios de los productos es: ', precio_promedio)\n",
        "\n"
      ]
    },
    {
      "cell_type": "markdown",
      "source": [
        "2. Mapeo de Datos y Enriquecimiento (Diccionarios y Pandas)\n",
        "Utiliza un diccionario para añadir contexto a nuestros datos:\n",
        "\n",
        "Creación de Mapa: Define un diccionario (mapa_categorias) que clasifique los productos en categorías ('Hardware').\n",
        "Ejemplo: 'Laptop': 'Hardware'\n",
        "\n",
        "Aplicación: Usa el método .map() para aplicar tu diccionario a la columna Producto y crea una nueva columna llamada Categoría en ventas_df.\n",
        "\n",
        "Verificación: Muestra las columnas Producto, Precio y la nueva columna Categoría para verificar el resultado.\n"
      ],
      "metadata": {
        "id": "-H_OykAXOOsl"
      }
    },
    {
      "cell_type": "code",
      "source": [
        "\n",
        "\n",
        "\n",
        "#Se define un diccionario para clasificar los productos como hardware.\n",
        "mapa_categorias = {\n",
        "    'Laptop': 'Hardware',\n",
        "    'Monitor': 'Hardware',\n",
        "    'Teclado': 'Hardware',\n",
        "    'Mouse': 'Hardware',\n",
        "    'Webcam': 'Hardware',\n",
        "    'Impresora': 'Hardware',\n",
        "    'Auriculares': 'Hardware'\n",
        "}\n",
        "\n",
        "#Usando .map() se añade la columna Categoría para cada uno de los productos en el DataFrame\n",
        "\n",
        "df['Categoría'] = df['Producto'].map(mapa_categorias)\n",
        "print(df[['Producto', 'Precio', 'Categoría']])"
      ],
      "metadata": {
        "colab": {
          "base_uri": "https://localhost:8080/"
        },
        "id": "YaNppWFUORnd",
        "outputId": "f9234ff2-e397-4531-8a2a-00a9b7ec7e9b"
      },
      "execution_count": 30,
      "outputs": [
        {
          "output_type": "stream",
          "name": "stdout",
          "text": [
            "       Producto  Precio Categoría\n",
            "0        Laptop    1200  Hardware\n",
            "1       Monitor     350  Hardware\n",
            "2       Teclado      80  Hardware\n",
            "3        Laptop    1150  Hardware\n",
            "4         Mouse      30  Hardware\n",
            "5        Webcam      50  Hardware\n",
            "6       Monitor     360  Hardware\n",
            "7     Impresora     250  Hardware\n",
            "8        Laptop    1250  Hardware\n",
            "9   Auriculares      45  Hardware\n",
            "10      Teclado      90  Hardware\n"
          ]
        }
      ]
    },
    {
      "cell_type": "markdown",
      "source": [
        "\n",
        "3. Control de Procesos (Listas como Pilas LIFO)\n",
        "Simula un flujo de trabajo que respete la lógica LIFO (Último en Entrar, Primero en Salir):\n",
        "\n",
        "Setup: Inicializa una lista llamada pila_inventario con ['Revisión A', 'Revisión B'].\n",
        "\n",
        "Push: Agrega las tareas 'Revisión C' y 'Revisión D' usando la lógica de Pila.\n",
        "\n",
        "Pop: Ejecuta la última tarea que entró. Guarda el resultado en una variable e imprime qué tarea fue ejecutada."
      ],
      "metadata": {
        "id": "D9fTIjuaOR0V"
      }
    },
    {
      "cell_type": "code",
      "source": [
        "#Se crea una lista\n",
        "pila_inventario = ['Revisión A', 'Revisión B']\n",
        "\n",
        "print('La primera lista está conformada por: ', pila_inventario)\n",
        "\n",
        "# Se añaden dos tareas a la lista\n",
        "pila_inventario.append('Revisión C')\n",
        "pila_inventario.append('Revisión D')\n",
        "\n",
        "print('La lista queda actualizada con los elementos: ', pila_inventario)\n",
        "\n",
        "#Se elmina el último elemento y se asigna a una variable.\n",
        "ultimo_elemento = pila_inventario.pop()\n",
        "\n",
        "#Se muestra el elemento eliminado de la pila.\n",
        "print('Se elimina la tarea: ', ultimo_elemento)"
      ],
      "metadata": {
        "colab": {
          "base_uri": "https://localhost:8080/"
        },
        "id": "2lagT73aOaGd",
        "outputId": "f8940f4b-544f-4829-9552-516691b133a1"
      },
      "execution_count": 22,
      "outputs": [
        {
          "output_type": "stream",
          "name": "stdout",
          "text": [
            "La primera lista está conformada por:  ['Revisión A', 'Revisión B']\n",
            "La lista queda actualizada con los elementos:  ['Revisión A', 'Revisión B', 'Revisión C', 'Revisión D']\n",
            "Se elimina la tarea:  Revisión D\n"
          ]
        }
      ]
    }
  ]
}