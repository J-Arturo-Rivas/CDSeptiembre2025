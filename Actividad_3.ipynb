{
  "nbformat": 4,
  "nbformat_minor": 0,
  "metadata": {
    "colab": {
      "provenance": [],
      "authorship_tag": "ABX9TyONlD4cCsz7LXz6J08/v7Be",
      "include_colab_link": true
    },
    "kernelspec": {
      "name": "python3",
      "display_name": "Python 3"
    },
    "language_info": {
      "name": "python"
    }
  },
  "cells": [
    {
      "cell_type": "markdown",
      "metadata": {
        "id": "view-in-github",
        "colab_type": "text"
      },
      "source": [
        "<a href=\"https://colab.research.google.com/github/J-Arturo-Rivas/CDSeptiembre2025/blob/Ulises/Actividad_3.ipynb\" target=\"_parent\"><img src=\"https://colab.research.google.com/assets/colab-badge.svg\" alt=\"Open In Colab\"/></a>"
      ]
    },
    {
      "cell_type": "code",
      "execution_count": null,
      "metadata": {
        "id": "c4b51VkrlWP1"
      },
      "outputs": [],
      "source": [
        "inventario = {\n",
        "    'tornillos': 150,\n",
        "    'martillos': 25,\n",
        "    'clavos': 300\n",
        "}\n",
        "inventario['sierras'] = 15\n",
        "\n",
        "\n",
        "inventario['tornillos'] = inventario['tornillos'] - 50  # ahora hay 100 tornillos\n",
        "\n",
        "\n",
        "print(\"Stock actual de martillos:\", inventario['martillos'])\n",
        "\n",
        "lista_productos = list(inventario.keys())\n",
        "\n",
        "print(\"Inventario final:\", inventario)\n",
        "print(\"Lista de productos:\", lista_productos)\n",
        "\n"
      ]
    }
  ]
}