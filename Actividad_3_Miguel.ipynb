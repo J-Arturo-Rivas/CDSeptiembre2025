{
  "nbformat": 4,
  "nbformat_minor": 0,
  "metadata": {
    "colab": {
      "provenance": [],
      "authorship_tag": "ABX9TyPYGc14pXLu4QrjemwG9NOX",
      "include_colab_link": true
    },
    "kernelspec": {
      "name": "python3",
      "display_name": "Python 3"
    },
    "language_info": {
      "name": "python"
    }
  },
  "cells": [
    {
      "cell_type": "markdown",
      "metadata": {
        "id": "view-in-github",
        "colab_type": "text"
      },
      "source": [
        "<a href=\"https://colab.research.google.com/github/J-Arturo-Rivas/CDSeptiembre2025/blob/Miguel/Actividad_3_Miguel.ipynb\" target=\"_parent\"><img src=\"https://colab.research.google.com/assets/colab-badge.svg\" alt=\"Open In Colab\"/></a>"
      ]
    },
    {
      "cell_type": "markdown",
      "source": [
        "Problema 1: Gestión de Inventario (Listas y Diccionarios)\n",
        "Eres el encargado de un pequeño almacén y necesitas un sistema para gestionar tu inventario.\n",
        "\n",
        "Tareas.\n",
        "Creación Inicial: Define un diccionario llamado inventario donde las claves son los nombres de los productos (cadenas) y los valores son el stock actual (números enteros).\n",
        "\n",
        "Inicializa el inventario con al menos tres productos: por ejemplo, 'tornillos': 150, 'martillos': 25, 'clavos': 300.\n",
        "\n",
        "Agrega un nuevo producto: 'sierras' con un stock de 15.\n",
        "\n",
        "Actualiza el stock de 'tornillos' restándole 50 unidades (por una venta).\n",
        "\n",
        "Muestra el stock actual de 'martillos'.\n",
        "\n",
        "Operación con Lista: Extrae todas las claves (nombres de productos) del diccionario inventario y guárdalas en una lista llamada lista_productos.\n",
        "\n",
        "Verificación y Salida: Imprime el diccionario inventario final y la lista_productos.\n",
        "\n",
        "Problema 2: Coordenadas Inmutables (Tuplas y Conversión)\n",
        "\n",
        "Debes almacenar un conjunto de puntos de interés (POI) en un mapa, donde cada punto se define por sus coordenadas (x,y).\n",
        "\n",
        "Tareas\n",
        "Creación de POIs: Crea una lista llamada poi_lista que contenga al menos tres tuplas, donde cada tupla represente una coordenada (x,y):\n",
        "\n",
        "Ejemplo: [(10, 5), (25, 8), (4, 12)].\n",
        "\n",
        "Creación Etiquetada: Para un nuevo punto, crea una tupla llamada poi_etiquetado que almacene la etiqueta y sus coordenadas.\n",
        "\n",
        "Ejemplo: ('Estatua', 30, 9).\n",
        "\n",
        "Problema 3: Recibo de Compra (Anidación y Acceso)\n",
        "Estás diseñando la estructura de datos para un recibo de compra, que debe contener información estructurada y repetitiva.\n",
        "\n",
        "Tareas\n",
        "Estructura del Recibo: Crea un diccionario llamado recibo con las siguientes claves:\n",
        "\n",
        "'numero_recibo' (entero).\n",
        "\n",
        "'fecha' (cadena).\n",
        "\n",
        "'items' (lista).\n",
        "\n",
        "El valor de 'items' debe ser una lista de diccionarios, donde cada diccionario representa un ítem con claves como 'nombre', 'cantidad', y 'precio_unitario'.\n",
        "\n",
        "Llenar con Datos: Agrega al menos dos ítems (diccionarios) a la lista 'items' del recibo.\n",
        "\n",
        "Cálculo y Acceso:\n",
        "\n",
        "Accede e imprime el nombre del segundo ítem comprado.\n",
        "\n",
        "Calcula el subtotal de ese segundo ítem (cantidad * precio_unitario) y almacénalo en una variable.\n",
        "\n",
        "Modificación Anidada: Incrementa la 'cantidad' del primer ítem en 1.\n",
        "\n"
      ],
      "metadata": {
        "id": "f_fV0XQwajWo"
      }
    },
    {
      "cell_type": "markdown",
      "source": [
        "Problema 1:\n",
        "\n",
        "Gestión de Inventario (Listas y Diccionarios)\n",
        "Eres el encargado de un pequeño almacén y necesitas un sistema para gestionar tu inventario.\n",
        "\n",
        "Tareas.\n",
        "Creación Inicial: Define un diccionario llamado inventario donde las claves son los nombres de los productos (cadenas) y los valores son el stock actual (números enteros).\n",
        "\n",
        "Inicializa el inventario con al menos tres productos: por ejemplo, 'tornillos': 150, 'martillos': 25, 'clavos': 300.\n",
        "\n",
        "Agrega un nuevo producto: 'sierras' con un stock de 15.\n",
        "\n",
        "Actualiza el stock de 'tornillos' restándole 50 unidades (por una venta).\n",
        "\n",
        "Muestra el stock actual de 'martillos'.\n",
        "\n",
        "Operación con Lista: Extrae todas las claves (nombres de productos) del diccionario inventario y guárdalas en una lista llamada lista_productos.\n",
        "\n",
        "Verificación y Salida: Imprime el diccionario inventario final y la lista_productos."
      ],
      "metadata": {
        "id": "QTo2PE2kcvHx"
      }
    },
    {
      "cell_type": "code",
      "execution_count": 19,
      "metadata": {
        "colab": {
          "base_uri": "https://localhost:8080/"
        },
        "id": "hb72F3SNaigM",
        "outputId": "8cc1e732-40d0-41a2-b21d-3fe54a352ad2"
      },
      "outputs": [
        {
          "output_type": "stream",
          "name": "stdout",
          "text": [
            "Martillos:  25\n",
            "{'tornillos': 100, 'martillos': 25, 'clavos': 300, 'sierras': 15}\n",
            "['tornillos', 'martillos', 'clavos', 'sierras']\n"
          ]
        }
      ],
      "source": [
        "inventario = {\n",
        "    'tornillos' : 150,\n",
        "    'martillos' : 25,\n",
        "    'clavos' : 300,\n",
        "}\n",
        "\n",
        "inventario ['sierras'] = 15\n",
        "\n",
        "inventario ['tornillos'] -= 50\n",
        "\n",
        "print('Martillos: ', inventario['martillos'])\n",
        "\n",
        "lista_productos = list(inventario.keys())\n",
        "\n",
        "print(inventario)\n",
        "print(lista_productos)\n"
      ]
    },
    {
      "cell_type": "markdown",
      "source": [
        "Problema 2:\n",
        "\n",
        "Coordenadas Inmutables (Tuplas y Conversión)\n",
        "\n",
        "Debes almacenar un conjunto de puntos de interés (POI) en un mapa, donde cada punto se define por sus coordenadas (x,y).\n",
        "\n",
        "Tareas\n",
        "Creación de POIs: Crea una lista llamada poi_lista que contenga al menos tres tuplas, donde cada tupla represente una coordenada (x,y):\n",
        "\n",
        "Ejemplo: [(10, 5), (25, 8), (4, 12)].\n",
        "\n",
        "Creación Etiquetada: Para un nuevo punto, crea una tupla llamada poi_etiquetado que almacene la etiqueta y sus coordenadas.\n",
        "\n",
        "Ejemplo: ('Estatua', 30, 9).\n"
      ],
      "metadata": {
        "id": "3WXUjb8mcybw"
      }
    },
    {
      "cell_type": "code",
      "source": [
        "poi_lista = [(25,15), (30,40), (12,8)]\n",
        "\n",
        "poi_etiquetado = ('PILARES',105,70)\n"
      ],
      "metadata": {
        "id": "RQSUEGjOc07p"
      },
      "execution_count": 7,
      "outputs": []
    },
    {
      "cell_type": "markdown",
      "source": [
        "Problema 3:\n",
        "\n",
        "Recibo de Compra (Anidación y Acceso)\n",
        "Estás diseñando la estructura de datos para un recibo de compra, que debe contener información estructurada y repetitiva.\n",
        "\n",
        "Tareas\n",
        "Estructura del Recibo: Crea un diccionario llamado recibo con las siguientes claves:\n",
        "\n",
        "'numero_recibo' (entero).\n",
        "\n",
        "'fecha' (cadena).\n",
        "\n",
        "'items' (lista).\n",
        "\n",
        "El valor de 'items' debe ser una lista de diccionarios, donde cada diccionario representa un ítem con claves como 'nombre', 'cantidad', y 'precio_unitario'.\n",
        "\n",
        "Llenar con Datos: Agrega al menos dos ítems (diccionarios) a la lista 'items' del recibo.\n",
        "\n",
        "Cálculo y Acceso:\n",
        "\n",
        "Accede e imprime el nombre del segundo ítem comprado.\n",
        "\n",
        "Calcula el subtotal de ese segundo ítem (cantidad * precio_unitario) y almacénalo en una variable.\n",
        "\n",
        "Modificación Anidada: Incrementa la 'cantidad' del primer ítem en 1.\n"
      ],
      "metadata": {
        "id": "hIgZfpvqeNqR"
      }
    },
    {
      "cell_type": "code",
      "source": [
        "recibo = {\n",
        "    'numero_recibo' : 1025,\n",
        "    'fecha' : '04/10/2025',\n",
        "    'items' : [\n",
        "        {\n",
        "            'nombre' : 'zapatos',\n",
        "            'cantidad' : 2,\n",
        "            'precio_unitario' : 999,\n",
        "        },\n",
        "        {\n",
        "            'nombre' : 'chamarra',\n",
        "            'cantidad' : 2,\n",
        "            'precio_unitario' : 750,\n",
        "        }\n",
        "        ]\n",
        "}\n",
        "\n",
        "print(recibo)\n",
        "\n",
        "#segundo item comprado:\n",
        "print(recibo['items'][1]['nombre'])\n",
        "\n",
        "\n",
        "subtotal_item2 = recibo['items'][1]['cantidad'] * recibo['items'][1]['precio_unitario']\n",
        "print('El subtotal del item 2, es: ', subtotal_item2)\n",
        "\n"
      ],
      "metadata": {
        "colab": {
          "base_uri": "https://localhost:8080/"
        },
        "id": "3oxeiJwAeUio",
        "outputId": "20d739bf-c7ca-4b2b-9347-9ffb44559d5a"
      },
      "execution_count": 20,
      "outputs": [
        {
          "output_type": "stream",
          "name": "stdout",
          "text": [
            "{'numero_recibo': 1025, 'fecha': '04/10/2025', 'items': [{'nombre': 'zapatos', 'cantidad': 2, 'precio_unitario': 999}, {'nombre': 'chamarra', 'cantidad': 2, 'precio_unitario': 750}]}\n",
            "chamarra\n",
            "El subtotal del item 2, es:  1500\n"
          ]
        }
      ]
    }
  ]
}