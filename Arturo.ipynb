{
  "nbformat": 4,
  "nbformat_minor": 0,
  "metadata": {
    "colab": {
      "provenance": [],
      "authorship_tag": "ABX9TyOnGipzyqgoqtoguyXqAuVS",
      "include_colab_link": true
    },
    "kernelspec": {
      "name": "python3",
      "display_name": "Python 3"
    },
    "language_info": {
      "name": "python"
    }
  },
  "cells": [
    {
      "cell_type": "markdown",
      "metadata": {
        "id": "view-in-github",
        "colab_type": "text"
      },
      "source": [
        "<a href=\"https://colab.research.google.com/github/J-Arturo-Rivas/CDSeptiembre2025/blob/main/Arturo.ipynb\" target=\"_parent\"><img src=\"https://colab.research.google.com/assets/colab-badge.svg\" alt=\"Open In Colab\"/></a>"
      ]
    },
    {
      "cell_type": "code",
      "execution_count": 5,
      "metadata": {
        "colab": {
          "base_uri": "https://localhost:8080/"
        },
        "id": "Ya9t3zUhQ-ky",
        "outputId": "a5fcb871-cfb5-4f37-c451-20275b74687a"
      },
      "outputs": [
        {
          "output_type": "stream",
          "name": "stdout",
          "text": [
            "Ingresa tu edad25\n",
            "Ingresa tu nombreArturo\n",
            "Hola Arturo\n",
            "Bienvenido al curso de Ciencia de Datos\n",
            "Tu edad es 25\n"
          ]
        }
      ],
      "source": [
        "edad=int(input(\"Ingresa tu edad\"))\n",
        "nombre= input(\"Ingresa tu nombre\")\n",
        "print(\"Hola\", nombre)\n",
        "print(\"Bienvenido al curso de Ciencia de Datos\")\n",
        "print(\"Tu edad es\",edad)"
      ]
    }
  ]
}