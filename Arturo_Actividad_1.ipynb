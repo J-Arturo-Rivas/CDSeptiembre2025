{
  "nbformat": 4,
  "nbformat_minor": 0,
  "metadata": {
    "colab": {
      "provenance": [],
      "authorship_tag": "ABX9TyPKNMdn070Zai3+owDTaBfj",
      "include_colab_link": true
    },
    "kernelspec": {
      "name": "python3",
      "display_name": "Python 3"
    },
    "language_info": {
      "name": "python"
    }
  },
  "cells": [
    {
      "cell_type": "markdown",
      "metadata": {
        "id": "view-in-github",
        "colab_type": "text"
      },
      "source": [
        "<a href=\"https://colab.research.google.com/github/J-Arturo-Rivas/CDSeptiembre2025/blob/main/Arturo_Actividad_1.ipynb\" target=\"_parent\"><img src=\"https://colab.research.google.com/assets/colab-badge.svg\" alt=\"Open In Colab\"/></a>"
      ]
    },
    {
      "cell_type": "markdown",
      "source": [
        "Actividad 1\n",
        "Creacion del archivo en Colab que realiza lo siguiente:\n",
        "\n",
        "\n",
        "*   Solicita al usuario sus datos personales como son nombre y edad\n",
        "*   Imprimer en pantalla un mensaje de bienvenida\n",
        "\n"
      ],
      "metadata": {
        "id": "hiGXkSFKXrjy"
      }
    },
    {
      "cell_type": "code",
      "execution_count": null,
      "metadata": {
        "colab": {
          "base_uri": "https://localhost:8080/"
        },
        "id": "Ya9t3zUhQ-ky",
        "outputId": "a5fcb871-cfb5-4f37-c451-20275b74687a"
      },
      "outputs": [
        {
          "output_type": "stream",
          "name": "stdout",
          "text": [
            "Ingresa tu edad25\n",
            "Ingresa tu nombreArturo\n",
            "Hola Arturo\n",
            "Bienvenido al curso de Ciencia de Datos\n",
            "Tu edad es 25\n"
          ]
        }
      ],
      "source": [
        "edad=int(input(\"Ingresa tu edad\"))\n",
        "nombre= input(\"Ingresa tu nombre\")\n",
        "print(\"Hola\", nombre)\n",
        "print(\"Bienvenido al curso de Ciencia de Datos\")\n",
        "print(\"Tu edad es\",edad)"
      ]
    }
  ]
}