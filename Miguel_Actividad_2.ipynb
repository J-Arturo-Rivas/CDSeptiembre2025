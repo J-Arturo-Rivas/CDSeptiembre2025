{
  "nbformat": 4,
  "nbformat_minor": 0,
  "metadata": {
    "colab": {
      "provenance": [],
      "authorship_tag": "ABX9TyPsfQl+hNc5U4JSkZ+6hL0C",
      "include_colab_link": true
    },
    "kernelspec": {
      "name": "python3",
      "display_name": "Python 3"
    },
    "language_info": {
      "name": "python"
    }
  },
  "cells": [
    {
      "cell_type": "markdown",
      "metadata": {
        "id": "view-in-github",
        "colab_type": "text"
      },
      "source": [
        "<a href=\"https://colab.research.google.com/github/J-Arturo-Rivas/CDSeptiembre2025/blob/Miguel/Miguel_Actividad_2.ipynb\" target=\"_parent\"><img src=\"https://colab.research.google.com/assets/colab-badge.svg\" alt=\"Open In Colab\"/></a>"
      ]
    },
    {
      "cell_type": "markdown",
      "source": [
        "Ingresa el siguiente código en Colab\n",
        "\n",
        "nombre= input(\"Ingresa tu nombre\")\n",
        "print(f\"Hola {nombre}\")\n",
        "print(\"Esto es una lista\")\n",
        "lista1=[1,2,3,4,5]\n",
        "print(lista1)\n",
        "print(\"Asi imprimes el primer elemento de la lista\")\n",
        "print(lista1[0])\n",
        "print(\"Asi agregas un elemento a la lista\")\n",
        "lista1.append(6)\n",
        "print(lista1)\n",
        "print(\"Esto es una tupla\")\n",
        "tupla1=(1,2,3,4,5)\n",
        "print(\"Asi imprime el primer elemento de la tupla\")\n",
        "print(tupla1[0])\n",
        "print(\"Asi imprime los primeros 3 elementos de una tupla\")\n",
        "print(tupla1[0:3])\n",
        "print(\"Esto es un diccionario\")\n",
        "diccionario1={\"nombre\":\"Juan\", \"edad\":20}\n",
        "print(diccionario1)\n",
        "print(\"Asi imprime el valor de la clave nombre del diccionario\")\n",
        "print(diccionario1[\"nombre\"])\n",
        "\n",
        "Resuelve lo siguiente\n",
        "\n",
        "Crea una lista con los 5 números pares\n",
        "Crea una tupla con tu nombre completo\n",
        "Crea un diccionario de los estados de la materia como claves y ejemplos como valores."
      ],
      "metadata": {
        "id": "Mzt7t2TsZ18F"
      }
    },
    {
      "cell_type": "code",
      "execution_count": 1,
      "metadata": {
        "colab": {
          "base_uri": "https://localhost:8080/"
        },
        "id": "qJiTMHBrZxk8",
        "outputId": "a25a69b3-4ad3-46bb-c885-36f232085225"
      },
      "outputs": [
        {
          "output_type": "stream",
          "name": "stdout",
          "text": [
            "Ingresa tu nombreMiguel\n",
            "Hola Miguel\n",
            "Esto es una lista\n",
            "[1, 2, 3, 4, 5]\n",
            "Asi imprimes el primer elemento de la lista\n",
            "1\n",
            "Asi agregas un elemento a la lista\n",
            "[1, 2, 3, 4, 5, 6]\n",
            "Esto es una tupla\n",
            "Asi imprime el primer elemento de la tupla\n",
            "1\n",
            "Asi imprime los primeros 3 elementos de una tupla\n",
            "(1, 2, 3)\n",
            "Esto es un diccionario\n",
            "{'nombre': 'Juan', 'edad': 20}\n",
            "Asi imprime el valor de la clave nombre del diccionario\n",
            "Juan\n"
          ]
        }
      ],
      "source": [
        "nombre= input(\"Ingresa tu nombre\")\n",
        "print(f\"Hola {nombre}\")\n",
        "print(\"Esto es una lista\")\n",
        "lista1=[1,2,3,4,5]\n",
        "print(lista1)\n",
        "print(\"Asi imprimes el primer elemento de la lista\")\n",
        "print(lista1[0])\n",
        "print(\"Asi agregas un elemento a la lista\")\n",
        "lista1.append(6)\n",
        "print(lista1)\n",
        "print(\"Esto es una tupla\")\n",
        "tupla1=(1,2,3,4,5)\n",
        "print(\"Asi imprime el primer elemento de la tupla\")\n",
        "print(tupla1[0])\n",
        "print(\"Asi imprime los primeros 3 elementos de una tupla\")\n",
        "print(tupla1[0:3])\n",
        "print(\"Esto es un diccionario\")\n",
        "diccionario1={\"nombre\":\"Juan\", \"edad\":20}\n",
        "print(diccionario1)\n",
        "print(\"Asi imprime el valor de la clave nombre del diccionario\")\n",
        "print(diccionario1[\"nombre\"])"
      ]
    },
    {
      "cell_type": "code",
      "source": [
        "lista2 = [4,6,8,10,12]\n",
        "tupla2 = (\"Eduardo\", \"Miguel\", \"Hernández\", \"Ángel\", \"Polvorilla\")\n",
        "print(tupla2[3:])\n",
        "diccionario2 = {\n",
        "    'solido' : 'ladrillo',\n",
        "    'gaseoso': 'gas lp',\n",
        "    'liquido' : 'refresco'\n",
        " }"
      ],
      "metadata": {
        "colab": {
          "base_uri": "https://localhost:8080/"
        },
        "id": "CTnwWtsYb5nN",
        "outputId": "2840c1b8-d604-40ab-ad80-beedf503bd51"
      },
      "execution_count": 7,
      "outputs": [
        {
          "output_type": "stream",
          "name": "stdout",
          "text": [
            "('Ángel', 'Polvorilla')\n"
          ]
        }
      ]
    }
  ]
}