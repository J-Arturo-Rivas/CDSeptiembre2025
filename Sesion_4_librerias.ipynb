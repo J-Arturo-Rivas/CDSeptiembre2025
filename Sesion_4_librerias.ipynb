{
  "nbformat": 4,
  "nbformat_minor": 0,
  "metadata": {
    "colab": {
      "provenance": [],
      "authorship_tag": "ABX9TyM8myY2fzQCOWVRP4Sm63di",
      "include_colab_link": true
    },
    "kernelspec": {
      "name": "python3",
      "display_name": "Python 3"
    },
    "language_info": {
      "name": "python"
    }
  },
  "cells": [
    {
      "cell_type": "markdown",
      "metadata": {
        "id": "view-in-github",
        "colab_type": "text"
      },
      "source": [
        "<a href=\"https://colab.research.google.com/github/J-Arturo-Rivas/CDSeptiembre2025/blob/Edwin/Sesion_4_librerias.ipynb\" target=\"_parent\"><img src=\"https://colab.research.google.com/assets/colab-badge.svg\" alt=\"Open In Colab\"/></a>"
      ]
    },
    {
      "cell_type": "code",
      "execution_count": 46,
      "metadata": {
        "colab": {
          "base_uri": "https://localhost:8080/"
        },
        "id": "CFWZhr-TQrJw",
        "outputId": "8b5ccf74-89e0-4ea1-c6e7-dbb3bdd85f38"
      },
      "outputs": [
        {
          "output_type": "stream",
          "name": "stdout",
          "text": [
            "DataFrame cargado y librerías listas.\n",
            "            Producto  Precio  Cantidad       Fecha\n",
            "0       Smartphone X   850.0       2.0  2024-01-05\n",
            "1         Tablet Pro   499.0       3.0  2024-01-05\n",
            "2         Cable HDMI    15.0      15.0  2024-01-06\n",
            "3       Smartphone X   890.0       1.0  2024-01-07\n",
            "4     Funda Silicona    10.0      25.0  2024-01-07\n",
            "5       Drone Básico   299.0       2.0  2024-01-08\n",
            "6         Tablet Pro   520.0       1.0  2024-01-08\n",
            "7    Cargador Rápido    35.0      10.0  2024-01-09\n",
            "8       Smartwatch S   180.0       4.0  2024-01-09\n",
            "9    Batería Externa    55.0       8.0  2024-01-10\n",
            "10  Memoria USB 64GB    25.0      20.0  2024-01-10\n",
            "11            -01-10     NaN       NaN         NaN\n",
            "12           Teclado    90.0       1.0  2024-01-10\n"
          ]
        }
      ],
      "source": [
        "import pandas as pd\n",
        "import numpy as np\n",
        "import seaborn as sns\n",
        "import matplotlib.pyplot as plt\n",
        "\n",
        "ventas_df = pd.read_csv('ventas.csv')\n",
        "ventas_df.head()\n",
        "try:\n",
        "  print(\"DataFrame cargado y librerías listas.\")\n",
        "except FileNotFoundError:\n",
        "  print(\"ERROR: Asegúrate de que el archivo 'ventas.csv' esté accesible.\")\n",
        "print(ventas_df)"
      ]
    },
    {
      "cell_type": "code",
      "source": [
        "precios_originales_np =np.array(ventas_df[\"Precio\"])\n",
        "print(precios_originales_np)\n",
        "desc = 0.10\n",
        "productos_descuentos = np.array(ventas_df[\"Precio\"])*(1-desc)\n",
        "print(\"Precio con descuento:\")\n",
        "print(productos_descuentos)\n"
      ],
      "metadata": {
        "colab": {
          "base_uri": "https://localhost:8080/"
        },
        "id": "1Y8qhwtlV23y",
        "outputId": "6e1e5212-4912-4c3b-d8c6-234697274d58"
      },
      "execution_count": 47,
      "outputs": [
        {
          "output_type": "stream",
          "name": "stdout",
          "text": [
            "[850. 499.  15. 890.  10. 299. 520.  35. 180.  55.  25.  nan  90.]\n",
            "Precio con descuento:\n",
            "[765.  449.1  13.5 801.    9.  269.1 468.   31.5 162.   49.5  22.5   nan\n",
            "  81. ]\n"
          ]
        }
      ]
    },
    {
      "cell_type": "markdown",
      "source": [
        "Crea una nueva columna en ventas_df llamada Precio_Descuento y asígnale el array recién calculado. Verifica el resultado mostrando ambas columnas.\n"
      ],
      "metadata": {
        "id": "j6-qcgCsWcEK"
      }
    },
    {
      "cell_type": "code",
      "source": [
        "\n",
        "Precio_Descuento = productos_descuentos\n",
        "ventas_df[\"Precio Descuento\"] = Precio_Descuento\n",
        "print(ventas_df)"
      ],
      "metadata": {
        "colab": {
          "base_uri": "https://localhost:8080/"
        },
        "id": "Ek8MTXwMXLZh",
        "outputId": "0396a905-4b67-4bfb-bb7c-d40ce15489f4"
      },
      "execution_count": 49,
      "outputs": [
        {
          "output_type": "stream",
          "name": "stdout",
          "text": [
            "            Producto  Precio  Cantidad       Fecha  Precio Descuento\n",
            "0       Smartphone X   850.0       2.0  2024-01-05             765.0\n",
            "1         Tablet Pro   499.0       3.0  2024-01-05             449.1\n",
            "2         Cable HDMI    15.0      15.0  2024-01-06              13.5\n",
            "3       Smartphone X   890.0       1.0  2024-01-07             801.0\n",
            "4     Funda Silicona    10.0      25.0  2024-01-07               9.0\n",
            "5       Drone Básico   299.0       2.0  2024-01-08             269.1\n",
            "6         Tablet Pro   520.0       1.0  2024-01-08             468.0\n",
            "7    Cargador Rápido    35.0      10.0  2024-01-09              31.5\n",
            "8       Smartwatch S   180.0       4.0  2024-01-09             162.0\n",
            "9    Batería Externa    55.0       8.0  2024-01-10              49.5\n",
            "10  Memoria USB 64GB    25.0      20.0  2024-01-10              22.5\n",
            "11            -01-10     NaN       NaN         NaN               NaN\n",
            "12           Teclado    90.0       1.0  2024-01-10              81.0\n"
          ]
        }
      ]
    },
    {
      "cell_type": "markdown",
      "source": [
        "Utiliza la función sns.histplot() para crear un histograma de la columna Precio. Incluye la curva de densidad (configura kde=True)."
      ],
      "metadata": {
        "id": "YMb3wxcbYUyR"
      }
    },
    {
      "cell_type": "code",
      "source": [
        "sns.histplot(x=ventas_df[\"Precio\"], kde=True)\n",
        "plt.title(\" Lista de Precios\")\n",
        "plt.show()"
      ],
      "metadata": {
        "colab": {
          "base_uri": "https://localhost:8080/",
          "height": 472
        },
        "id": "XmwNE_rKXxOi",
        "outputId": "c8ce6b74-73df-4f51-8407-2697c804d5ad"
      },
      "execution_count": 54,
      "outputs": [
        {
          "output_type": "display_data",
          "data": {
            "text/plain": [
              "<Figure size 640x480 with 1 Axes>"
            ],
            "image/png": "[encoded data removed]"
          },
          "metadata": {}
        }
      ]
    },
    {
      "cell_type": "code",
      "source": [
        "sns.scatterplot(x=\"Precio\", y=\"Cantidad\", data =ventas_df)\n",
        "plt.show()"
      ],
      "metadata": {
        "colab": {
          "base_uri": "https://localhost:8080/",
          "height": 449
        },
        "id": "i35xcQc5ZUQy",
        "outputId": "0ede5ce0-fbf5-4eba-b8e5-942b99617271"
      },
      "execution_count": 58,
      "outputs": [
        {
          "output_type": "display_data",
          "data": {
            "text/plain": [
              "<Figure size 640x480 with 1 Axes>"
            ],
            "image/png": "[encoded data removed]"
          },
          "metadata": {}
        }
      ]
    },
    {
      "cell_type": "code",
      "source": [
        "print(\"En base a la grafica mostrada se puede visdualizar que 7 productos cuestan menos de 200\")\n",
        "print(\"a su ves se visualizan solo 2 productos con un valor mayor a 800\")"
      ],
      "metadata": {
        "colab": {
          "base_uri": "https://localhost:8080/"
        },
        "id": "pag9jNf5dETf",
        "outputId": "2e8c1170-7efd-463d-b756-e825c900e3b5"
      },
      "execution_count": 59,
      "outputs": [
        {
          "output_type": "stream",
          "name": "stdout",
          "text": [
            "En base a la grafica mostrada se puede visdualizar que 7 productos cuestan menos de 200\n",
            "a su ves se visualizan solo 2 productos con un valor mayor a 800\n"
          ]
        }
      ]
    }
  ]
}