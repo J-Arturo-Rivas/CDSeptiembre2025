{
  "nbformat": 4,
  "nbformat_minor": 0,
  "metadata": {
    "colab": {
      "provenance": [],
      "authorship_tag": "ABX9TyN+BPn7Buj65253z8SQE4OV",
      "include_colab_link": true
    },
    "kernelspec": {
      "name": "python3",
      "display_name": "Python 3"
    },
    "language_info": {
      "name": "python"
    }
  },
  "cells": [
    {
      "cell_type": "markdown",
      "metadata": {
        "id": "view-in-github",
        "colab_type": "text"
      },
      "source": [
        "<a href=\"https://colab.research.google.com/github/J-Arturo-Rivas/CDSeptiembre2025/blob/angel/angelactividad1.ipynb\" target=\"_parent\"><img src=\"https://colab.research.google.com/assets/colab-badge.svg\" alt=\"Open In Colab\"/></a>"
      ]
    },
    {
      "cell_type": "code",
      "execution_count": 1,
      "metadata": {
        "colab": {
          "base_uri": "https://localhost:8080/"
        },
        "id": "FoSZtoDWQFzx",
        "outputId": "b0287df4-3817-4fad-f5ec-8fa2071a142a"
      },
      "outputs": [
        {
          "output_type": "stream",
          "name": "stdout",
          "text": [
            "Ingresa tu edad16\n",
            "Ingresa tu nombreangel fidel\n",
            "Hola angel fidel\n",
            "Bienvenido al curso de Ciencia de Datos\n",
            "Tu edad es 16\n"
          ]
        }
      ],
      "source": [
        "edad=int(input(\"Ingresa tu edad\"))\n",
        "nombre= input(\"Ingresa tu nombre\")\n",
        "print(\"Hola\", nombre)\n",
        "print(\"Bienvenido al curso de Ciencia de Datos\")\n",
        "print(\"Tu edad es\",edad)"
      ]
    },
    {
      "cell_type": "markdown",
      "source": [],
      "metadata": {
        "id": "BnHzINfFU6Nw"
      }
    }
  ]
}