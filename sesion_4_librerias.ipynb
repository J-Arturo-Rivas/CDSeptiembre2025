{
  "nbformat": 4,
  "nbformat_minor": 0,
  "metadata": {
    "colab": {
      "provenance": [],
      "authorship_tag": "ABX9TyMsdL92D6awI5z11mTeVoO+",
      "include_colab_link": true
    },
    "kernelspec": {
      "name": "python3",
      "display_name": "Python 3"
    },
    "language_info": {
      "name": "python"
    }
  },
  "cells": [
    {
      "cell_type": "markdown",
      "metadata": {
        "id": "view-in-github",
        "colab_type": "text"
      },
      "source": [
        "<a href=\"https://colab.research.google.com/github/J-Arturo-Rivas/CDSeptiembre2025/blob/Miguel/sesion_4_librerias.ipynb\" target=\"_parent\"><img src=\"https://colab.research.google.com/assets/colab-badge.svg\" alt=\"Open In Colab\"/></a>"
      ]
    },
    {
      "cell_type": "markdown",
      "source": [
        "**🎯 Objetivo de la Tarea**\n",
        "\n",
        "Esta tarea requiere la integración de NumPy para cálculos eficientes y Seaborn/Matplotlib para la visualización de datos.\n",
        "Deberás aplicar estos conocimientos al DataFrame de ventas para obtener insights clave sobre los precios y la cantidad vendida.\n",
        "\n",
        "**💾 Configuración y Carga de Datos**\n",
        "\n",
        "Crea un nuevo archivo llamado sesion_4_librerias.ipynb en colab.\n",
        "\n",
        "Utilizaremos el archivo ventas.csv para cargarlo.\n",
        "\n",
        "Implementa la celda inicial para importar las librerías necesarias y cargar el DataFrame ventas_df.\n",
        "\n",
        "Python\n",
        "\n",
        "import pandas as pd\n",
        "\n",
        "import numpy as np\n",
        "\n",
        "import seaborn as sns\n",
        "\n",
        "import matplotlib.pyplot as plt\n",
        "\n",
        "    try:\n",
        "      ventas_df = pd.read_csv('ventas.csv')\n",
        "        print(\"DataFrame cargado y librerías listas.\")\n",
        "      except FileNotFoundError:\n",
        "        print(\"ERROR: Asegúrate de que el archivo 'ventas.csv' esté accesible.\")"
      ],
      "metadata": {
        "id": "qUHMaUuCQy59"
      }
    },
    {
      "cell_type": "code",
      "execution_count": 45,
      "metadata": {
        "colab": {
          "base_uri": "https://localhost:8080/"
        },
        "id": "_uV8Cc0DLyLE",
        "outputId": "af45548c-8fea-49b7-d976-a8c4d2813f69"
      },
      "outputs": [
        {
          "output_type": "stream",
          "name": "stdout",
          "text": [
            "DataFrame cargado y librerías listas.\n",
            "            Producto  Precio  Cantidad       Fecha\n",
            "0       Smartphone X   850.0       2.0  2024-01-05\n",
            "1         Tablet Pro   499.0       3.0  2024-01-05\n",
            "2         Cable HDMI    15.0      15.0  2024-01-06\n",
            "3       Smartphone X   890.0       1.0  2024-01-07\n",
            "4     Funda Silicona    10.0      25.0  2024-01-07\n",
            "5       Drone Básico   299.0       2.0  2024-01-08\n",
            "6         Tablet Pro   520.0       1.0  2024-01-08\n",
            "7    Cargador Rápido    35.0      10.0  2024-01-09\n",
            "8       Smartwatch S   180.0       4.0  2024-01-09\n",
            "9    Batería Externa    55.0       8.0  2024-01-10\n",
            "10  Memoria USB 64GB    25.0      20.0  2024-01-10\n",
            "11            -01-10     NaN       NaN         NaN\n",
            "12           Teclado    90.0       1.0  2024-01-10\n"
          ]
        }
      ],
      "source": [
        "import pandas as pd\n",
        "import numpy as np\n",
        "import seaborn as sns\n",
        "import matplotlib.pyplot as plt\n",
        "\n",
        "try:\n",
        "  ventas_df = pd.read_csv('/content/ventas.csv')\n",
        "  print(\"DataFrame cargado y librerías listas.\")\n",
        "except FileNotFoundError:\n",
        "  print(\"ERROR: Asegúrate de que el archivo 'ventas.csv' esté accesible.\")\n",
        "\n",
        "print(ventas_df)\n"
      ]
    },
    {
      "cell_type": "markdown",
      "source": [
        "**Problema 1:** Ajuste de Inventario y Cálculo Eficiente (NumPy)\n",
        "\n",
        "Simula una promoción de descuento. Utiliza la eficiencia de NumPy para realizar el cálculo.\n",
        "\n",
        "**Conversión:** Extrae la columna Precio de ventas_df y conviértela a un Array de NumPy llamado precios_originales_np.\n",
        "\n",
        "**Cálculo Vectorial:** Crea un nuevo array, precios_con_descuento_np, aplicando un descuento del 10% (multiplicar por 0.90) en una sola operación.\n",
        "\n",
        "**Actualización:** Crea una nueva columna en ventas_df llamada Precio_Descuento y asígnale el array recién calculado. Verifica el resultado mostrando ambas columnas."
      ],
      "metadata": {
        "id": "JSp7X6m-RqpU"
      }
    },
    {
      "cell_type": "code",
      "source": [
        "precios_originales_np = np.array(ventas_df['Precio'])\n",
        "print('Los precios originales son: ', precios_originales_np)\n",
        "precios_con_descuento_np = precios_originales_np * 0.90\n",
        "print('Los precios con descuento son los siguientes: ', precios_con_descuento_np)\n",
        "ventas_df['Precio_Descuento'] = precios_con_descuento_np\n",
        "print('El DataFrame actualizado es el siguiente: ')\n",
        "print(ventas_df[['Producto', 'Precio_Descuento']])"
      ],
      "metadata": {
        "colab": {
          "base_uri": "https://localhost:8080/"
        },
        "id": "1huMc58BSD2U",
        "outputId": "bdecf34d-526d-429b-93ef-b0710207a5e3"
      },
      "execution_count": 46,
      "outputs": [
        {
          "output_type": "stream",
          "name": "stdout",
          "text": [
            "Los precios originales son:  [850. 499.  15. 890.  10. 299. 520.  35. 180.  55.  25.  nan  90.]\n",
            "Los precios con descuento son los siguientes:  [765.  449.1  13.5 801.    9.  269.1 468.   31.5 162.   49.5  22.5   nan\n",
            "  81. ]\n",
            "El DataFrame actualizado es el siguiente: \n",
            "            Producto  Precio_Descuento\n",
            "0       Smartphone X             765.0\n",
            "1         Tablet Pro             449.1\n",
            "2         Cable HDMI              13.5\n",
            "3       Smartphone X             801.0\n",
            "4     Funda Silicona               9.0\n",
            "5       Drone Básico             269.1\n",
            "6         Tablet Pro             468.0\n",
            "7    Cargador Rápido              31.5\n",
            "8       Smartwatch S             162.0\n",
            "9    Batería Externa              49.5\n",
            "10  Memoria USB 64GB              22.5\n",
            "11            -01-10               NaN\n",
            "12           Teclado              81.0\n"
          ]
        }
      ]
    },
    {
      "cell_type": "markdown",
      "source": [
        "Problema 2: Análisis de Distribución Visual (Seaborn y Matplotlib)\n",
        "\n",
        "Visualiza la distribución de los precios de venta para entender el perfil de costo de los productos.\n",
        "\n",
        "Gráfico: Utiliza la función sns.histplot() para crear un histograma de la columna Precio. Incluye la curva de densidad (configura kde=True).\n",
        "\n",
        "Ajustes: Agrega un título claro al gráfico usando plt.title().\n",
        "\n",
        "Mostrar: Muestra el gráfico con plt.show()."
      ],
      "metadata": {
        "id": "bCrU_RGSRsgk"
      }
    },
    {
      "cell_type": "code",
      "source": [
        "\n",
        "sns.histplot(ventas_df['Precio'], kde=True)\n",
        "plt.xlabel('Precio')\n",
        "plt.ylabel('Cantidad')\n",
        "plt.title('Distribución de Precios de venta')\n",
        "plt.show()"
      ],
      "metadata": {
        "colab": {
          "base_uri": "https://localhost:8080/",
          "height": 472
        },
        "id": "k-RpcpU1TxR7",
        "outputId": "4b233521-fad0-4d91-b065-a08fa4c54b50"
      },
      "execution_count": 47,
      "outputs": [
        {
          "output_type": "display_data",
          "data": {
            "text/plain": [
              "<Figure size 640x480 with 1 Axes>"
            ],
            "image/png": "[encoded data removed]"
          },
          "metadata": {}
        }
      ]
    },
    {
      "cell_type": "markdown",
      "source": [
        "Problema 3: Relación entre Variables (Seaborn)\n",
        "\n",
        "Investiga si existe una relación entre el precio y la cantidad vendida (la teoría es que los productos caros se venden menos).\n",
        "\n",
        "Gráfico: Crea un gráfico de dispersión (sns.scatterplot()) donde el eje X sea el Precio y el eje Y sea la Cantidad.\n",
        "\n",
        "Interpretación: Basándote en el patrón de los puntos del gráfico, añade una celda de texto (Markdown) respondiendo: ¿Parece existir una correlación negativa (a más precio, menos cantidad) o positiva? Justifica tu respuesta brevemente."
      ],
      "metadata": {
        "id": "xmjNOIDsRs4c"
      }
    },
    {
      "cell_type": "code",
      "source": [
        "sns.scatterplot(data=ventas_df, x='Precio', y='Cantidad')\n",
        "plt.show()\n",
        "\n",
        "print('Con base en los patrones de puntos en el gráfico, se puede decir que parece existir una correlación negativa,\\n dado que el patrón parece formar una línea que baja de derecha a izquierda,\\n es decir, cuando el precio sube, la cantidad baja.')"
      ],
      "metadata": {
        "colab": {
          "base_uri": "https://localhost:8080/",
          "height": 501
        },
        "id": "ZfNSizdATyVD",
        "outputId": "84139516-0872-466c-8b22-b64b109f08bb"
      },
      "execution_count": 48,
      "outputs": [
        {
          "output_type": "display_data",
          "data": {
            "text/plain": [
              "<Figure size 640x480 with 1 Axes>"
            ],
            "image/png": "[encoded data removed]"
          },
          "metadata": {}
        },
        {
          "output_type": "stream",
          "name": "stdout",
          "text": [
            "Con base en los patrones de puntos en el gráfico, se puede decir que parece existir una correlación negativa,\n",
            " dado que el patrón parece formar una línea que baja de derecha a izquierda,\n",
            " es decir, cuando el precio sube, la cantidad baja.\n"
          ]
        }
      ]
    },
    {
      "cell_type": "markdown",
      "source": [
        "**¿Parece existir una correlación negativa (a más precio, nenos cantidad) o positiva?**\n",
        "\n",
        "Parece existir una correlación negativa dado que, inicialmente, el patrón de los puntos tienden a formar una línea que baja de izquierda a derecha, es decir, cuando el precio (en el eje X) sube, la cantidad (eje Y) baja y dicha tendencia parece mantenerse."
      ],
      "metadata": {
        "id": "yGkPRwLxUNRc"
      }
    },
    {
      "cell_type": "markdown",
      "source": [
        "🏁 Criterios de Finalización (Definition of Done)\n",
        "Para subir el archivo, debemos asegurarnos de lo siguiente:\n",
        "\n",
        "El archivo sesion_4_librerias.ipynb está en el repositorio con todas las celdas ejecutadas.\n",
        "\n",
        "El DataFrame final contiene la columna Precio_Descuento calculada correctamente usando NumPy.\n",
        "\n",
        "Se han generado y mostrado correctamente el histograma y el gráfico de dispersión (Problemas 2 y 3).\n",
        "\n",
        "La interpretación del gráfico de dispersión (Problema 3) es lógica y se basa en la visualización."
      ],
      "metadata": {
        "id": "R0y6hhUARtH9"
      }
    },
    {
      "cell_type": "code",
      "source": [],
      "metadata": {
        "id": "BaK50mUUTzBj"
      },
      "execution_count": 48,
      "outputs": []
    }
  ]
}